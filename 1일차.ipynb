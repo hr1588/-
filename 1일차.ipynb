{
 "cells": [
  {
   "attachments": {},
   "cell_type": "markdown",
   "metadata": {},
   "source": [
    "## 파이썬 자료형"
   ]
  },
  {
   "attachments": {},
   "cell_type": "markdown",
   "metadata": {},
   "source": [
    "### (1) 숫자형"
   ]
  },
  {
   "cell_type": "code",
   "execution_count": 3,
   "metadata": {},
   "outputs": [],
   "source": [
    "a = 1234\n",
    "b = -12.34\n",
    "c = a+b"
   ]
  },
  {
   "cell_type": "code",
   "execution_count": 4,
   "metadata": {},
   "outputs": [
    {
     "name": "stdout",
     "output_type": "stream",
     "text": [
      "1234 -12.34\n",
      "<class 'int'> <class 'float'>\n",
      "1221.66\n",
      "<class 'float'>\n"
     ]
    }
   ],
   "source": [
    "print(a,b)\n",
    "print(type(a), type(b))\n",
    "print(c)\n",
    "print(type(c))"
   ]
  },
  {
   "cell_type": "code",
   "execution_count": 5,
   "metadata": {},
   "outputs": [
    {
     "name": "stdout",
     "output_type": "stream",
     "text": [
      "10\n",
      "-4\n",
      "21\n",
      "0.42857142857142855\n",
      "2187\n",
      "3\n",
      "0\n"
     ]
    }
   ],
   "source": [
    "a=3\n",
    "b=7\n",
    "\n",
    "print(a+b)\n",
    "print(a-b)\n",
    "print(a*b)\n",
    "print(a/b)\n",
    "print(a**b)\n",
    "print(a%b)\n",
    "print(a//b)"
   ]
  },
  {
   "attachments": {},
   "cell_type": "markdown",
   "metadata": {},
   "source": [
    "### (2) 문자형"
   ]
  },
  {
   "cell_type": "code",
   "execution_count": 6,
   "metadata": {},
   "outputs": [
    {
     "name": "stdout",
     "output_type": "stream",
     "text": [
      "Hello World\n",
      "Hello Python's World\n",
      "\"Hello World.\" he says.\n",
      "Hello World\n",
      "Life is good\n"
     ]
    }
   ],
   "source": [
    "a = \"Hello World\"\n",
    "b = \"Hello Python's World\"\n",
    "c = '\"Hello World.\" he says.'\n",
    "d = \"Hello World\\nLife is good\" # 줄바꿈\n",
    " \n",
    "print(a)\n",
    "print(b)\n",
    "print(c)\n",
    "print(d)"
   ]
  },
  {
   "cell_type": "code",
   "execution_count": 7,
   "metadata": {},
   "outputs": [
    {
     "name": "stdout",
     "output_type": "stream",
     "text": [
      "python is good.\n"
     ]
    }
   ],
   "source": [
    "a = 'python'\n",
    "b= ' '\n",
    "c = 'is good.'\n",
    "\n",
    "print(a+b+c)"
   ]
  },
  {
   "cell_type": "code",
   "execution_count": 11,
   "metadata": {},
   "outputs": [
    {
     "name": "stdout",
     "output_type": "stream",
     "text": [
      "pythonpythonpython\n"
     ]
    }
   ],
   "source": [
    "a = 'python'\n",
    "\n",
    "print(a*3)"
   ]
  },
  {
   "cell_type": "code",
   "execution_count": 12,
   "metadata": {},
   "outputs": [
    {
     "name": "stdout",
     "output_type": "stream",
     "text": [
      "33\n"
     ]
    }
   ],
   "source": [
    "a = \"Life is short, Python is valuable\"\n",
    "b = len(a)\n",
    "\n",
    "print(b) # 문자열의 길이"
   ]
  },
  {
   "cell_type": "code",
   "execution_count": 13,
   "metadata": {},
   "outputs": [
    {
     "name": "stdout",
     "output_type": "stream",
     "text": [
      "Love\n"
     ]
    }
   ],
   "source": [
    "a = \"Life is short, Python is valuable\"\n",
    "b = a[0]\n",
    "c = a[10]\n",
    "d = a[-8]\n",
    "e = a[-1]\n",
    "\n",
    "print(b+c+d+e)"
   ]
  },
  {
   "cell_type": "code",
   "execution_count": 15,
   "metadata": {},
   "outputs": [
    {
     "name": "stdout",
     "output_type": "stream",
     "text": [
      "Life is valuable\n"
     ]
    }
   ],
   "source": [
    "b = a[:4]\n",
    "c= a[4:8]\n",
    "d = a[25:]\n",
    "\n",
    "print(b+c+d)"
   ]
  },
  {
   "cell_type": "code",
   "execution_count": 3,
   "metadata": {},
   "outputs": [
    {
     "name": "stdout",
     "output_type": "stream",
     "text": [
      "2\n",
      "1\n",
      "a,p,p,l,e\n",
      "APPLE\n"
     ]
    }
   ],
   "source": [
    "a = 'apple'\n",
    "b = a.count('p') # 항목 개수 리턴\n",
    "c = a.find('p') # 인덱스 위치 리턴\n",
    "d = ','.join(a) # 문자열 삽입\n",
    "e = a.upper() # 대문자 처리\n",
    "\n",
    "print(b)\n",
    "print(c)\n",
    "print(d)\n",
    "print(e)"
   ]
  },
  {
   "cell_type": "code",
   "execution_count": 4,
   "metadata": {},
   "outputs": [
    {
     "name": "stdout",
     "output_type": "stream",
     "text": [
      "apple \n",
      " apple\n",
      "apple\n"
     ]
    }
   ],
   "source": [
    "a = ' apple '\n",
    "b = a.lstrip() # 왼쪽 공백 제거\n",
    "c = a.rstrip() # 오른쪽 공백 제거\n",
    "d = a.strip() # 양쪽 공백 제거\n",
    "\n",
    "print(b)\n",
    "print(c)\n",
    "print(d)"
   ]
  },
  {
   "cell_type": "code",
   "execution_count": 7,
   "metadata": {},
   "outputs": [
    {
     "data": {
      "text/plain": [
       "'Python is good'"
      ]
     },
     "execution_count": 7,
     "metadata": {},
     "output_type": "execute_result"
    }
   ],
   "source": [
    "a = \"Life is good\"\n",
    "a.replace(\"Life\", \"Python\") # 문자열 대체"
   ]
  },
  {
   "cell_type": "code",
   "execution_count": 8,
   "metadata": {},
   "outputs": [
    {
     "name": "stdout",
     "output_type": "stream",
     "text": [
      "['Life', 'is', 'short,', 'Python', 'is', 'valuable']\n",
      "['Life is short', ' Python is valuable']\n"
     ]
    }
   ],
   "source": [
    "a = \"Life is short, Python is valuable\"\n",
    "b = a.split()\n",
    "c = a.split(',')\n",
    "\n",
    "print(b)\n",
    "print(c)"
   ]
  },
  {
   "attachments": {},
   "cell_type": "markdown",
   "metadata": {},
   "source": [
    "### (3) 리스트"
   ]
  },
  {
   "cell_type": "code",
   "execution_count": 15,
   "metadata": {},
   "outputs": [
    {
     "name": "stdout",
     "output_type": "stream",
     "text": [
      "[1, 2, 3, 4, 5, 1, 2, 3, 4, 5, 'a', 'b', 'c']\n",
      "13\n"
     ]
    }
   ],
   "source": [
    "a = [1,2,3,4,5]\n",
    "b = ['a','b','c']\n",
    "c = a*2 + b \n",
    "d = len(c)\n",
    "\n",
    "print(c) # 사칙연산 활용 리스트 결합 or 반복 가능\n",
    "print(d)"
   ]
  },
  {
   "cell_type": "code",
   "execution_count": 16,
   "metadata": {},
   "outputs": [
    {
     "name": "stdout",
     "output_type": "stream",
     "text": [
      "[1, 2, 3, 4, 5]\n",
      "1\n",
      "[2, 3, 4]\n",
      "5\n",
      "5\n",
      "[3, 4, 5]\n",
      "[3, 4, 5]\n",
      "[1, 2, 3]\n",
      "[1, 2, 3]\n"
     ]
    }
   ],
   "source": [
    "print(a)\n",
    "print(a[0])\n",
    "print(a[1:4])\n",
    "print(a[-1])\n",
    "print(a[4])\n",
    "print(a[2:])\n",
    "print(a[2:5])\n",
    "print(a[:3])\n",
    "print(a[0:3])"
   ]
  },
  {
   "cell_type": "code",
   "execution_count": 20,
   "metadata": {},
   "outputs": [
    {
     "name": "stdout",
     "output_type": "stream",
     "text": [
      "[1, 2, 3, ['a', 'b', 'c']]\n",
      "['a', 'b', 'c']\n",
      "['b', 'c']\n"
     ]
    }
   ],
   "source": [
    "a = [1,2,3,['a','b','c']]\n",
    "print(a)\n",
    "print(a[3])\n",
    "print(a[3][1:])"
   ]
  },
  {
   "cell_type": "code",
   "execution_count": 21,
   "metadata": {},
   "outputs": [
    {
     "name": "stdout",
     "output_type": "stream",
     "text": [
      "[1, 2, 10, 4]\n"
     ]
    }
   ],
   "source": [
    "a = [1,2,3,4,5]\n",
    "a[2] = 10 \n",
    "del a[4]\n",
    "print(a) # 인덱스 2번 변경, 4번 삭제"
   ]
  },
  {
   "cell_type": "code",
   "execution_count": 22,
   "metadata": {},
   "outputs": [
    {
     "data": {
      "text/plain": [
       "[1, 2, 3, 5]"
      ]
     },
     "execution_count": 22,
     "metadata": {},
     "output_type": "execute_result"
    }
   ],
   "source": [
    "a = [1,2,3]\n",
    "a.append(5) # 리스트 요소 추가\n",
    "a"
   ]
  },
  {
   "cell_type": "code",
   "execution_count": 24,
   "metadata": {},
   "outputs": [
    {
     "name": "stdout",
     "output_type": "stream",
     "text": [
      "[1, 2, 3, 4, 5]\n"
     ]
    }
   ],
   "source": [
    "a = [1,5,2,4,3]\n",
    "a.sort() # 리스트 정렬\n",
    "print(a)"
   ]
  },
  {
   "cell_type": "code",
   "execution_count": 28,
   "metadata": {},
   "outputs": [
    {
     "name": "stdout",
     "output_type": "stream",
     "text": [
      "2\n",
      "0\n"
     ]
    }
   ],
   "source": [
    "a = [5,4,3,2,1]\n",
    "\n",
    "b = a.index(3)\n",
    "c = a.index(5)\n",
    "\n",
    "print(b)\n",
    "print(c)"
   ]
  },
  {
   "cell_type": "code",
   "execution_count": 30,
   "metadata": {},
   "outputs": [
    {
     "data": {
      "text/plain": [
       "[10, 1, 2, 3]"
      ]
     },
     "execution_count": 30,
     "metadata": {},
     "output_type": "execute_result"
    }
   ],
   "source": [
    "a = [1,2,3]\n",
    "\n",
    "a.insert(0,10) # 원하는 위치에 요소 삽입\n",
    "a"
   ]
  },
  {
   "cell_type": "code",
   "execution_count": 36,
   "metadata": {},
   "outputs": [
    {
     "name": "stdout",
     "output_type": "stream",
     "text": [
      "[5, 3, 1, 5, 4, 3, 2, 1]\n",
      "2\n",
      "1\n"
     ]
    }
   ],
   "source": [
    "a = [5,4,3,2,1]\n",
    "b = 2*a\n",
    "b.remove(4) # 첫 번째로 등장하는 값 제거\n",
    "c = b.pop(2) # 해당되는 인덱스 값 추출, 추출된 값은 리스트에서 제거\n",
    "d = b.count(4)\n",
    "\n",
    "print(b)\n",
    "print(c)\n",
    "print(d)"
   ]
  },
  {
   "attachments": {},
   "cell_type": "markdown",
   "metadata": {},
   "source": [
    "### (4) 튜플"
   ]
  },
  {
   "cell_type": "code",
   "execution_count": 38,
   "metadata": {},
   "outputs": [
    {
     "name": "stdout",
     "output_type": "stream",
     "text": [
      "(1, 2, 3, 4, 5, 1, 2, 3, 4, 5, 'a', 'b', 'c')\n"
     ]
    },
    {
     "data": {
      "text/plain": [
       "13"
      ]
     },
     "execution_count": 38,
     "metadata": {},
     "output_type": "execute_result"
    }
   ],
   "source": [
    "a = (1,2,3,4,5)\n",
    "b = ('a','b','c')\n",
    "c = 2*a+b\n",
    "print(c) # 리스트와 동일하게 합치거나 반복할 수 있지만, 요소 변경 불가\n",
    "len(c)"
   ]
  },
  {
   "cell_type": "code",
   "execution_count": 40,
   "metadata": {},
   "outputs": [
    {
     "name": "stdout",
     "output_type": "stream",
     "text": [
      "1\n",
      "('a', 'b', 'c')\n"
     ]
    }
   ],
   "source": [
    "a = (1,2,3,'a','b','c')\n",
    "print(a[0])\n",
    "print(a[3:])"
   ]
  },
  {
   "attachments": {},
   "cell_type": "markdown",
   "metadata": {},
   "source": [
    "### (5) 딕셔너리(dict)"
   ]
  },
  {
   "cell_type": "code",
   "execution_count": 41,
   "metadata": {},
   "outputs": [
    {
     "name": "stdout",
     "output_type": "stream",
     "text": [
      "{'name': 'John', 'age': 30, 'birth': [11, 8]}\n",
      "[11, 8]\n"
     ]
    }
   ],
   "source": [
    "a = {'name':'John', 'age':30, 'birth':[11, 8]}\n",
    "\n",
    "print(a)\n",
    "print(a['birth'])"
   ]
  },
  {
   "cell_type": "code",
   "execution_count": 42,
   "metadata": {},
   "outputs": [
    {
     "name": "stdout",
     "output_type": "stream",
     "text": [
      "{'name': 'john', 'house': 'apartment'}\n"
     ]
    }
   ],
   "source": [
    "a = {'name':'john'}\n",
    "a['age'] = 30\n",
    "a['house'] = 'apartment' # 값 추가\n",
    "del a['age'] # 값 제거\n",
    "\n",
    "print(a)"
   ]
  },
  {
   "cell_type": "code",
   "execution_count": 43,
   "metadata": {},
   "outputs": [
    {
     "name": "stdout",
     "output_type": "stream",
     "text": [
      "{'name': 'Park'}\n"
     ]
    }
   ],
   "source": [
    "a = {'name':'John', 'name':'Park'}\n",
    "print(a) # 키는 고유만 값만 허용, 같은 키가 2개일 경우 하나의 값은 무시됨"
   ]
  },
  {
   "cell_type": "code",
   "execution_count": 44,
   "metadata": {},
   "outputs": [
    {
     "name": "stdout",
     "output_type": "stream",
     "text": [
      "dict_keys(['name', 'age', 'birth'])\n",
      "['name', 'age', 'birth']\n"
     ]
    }
   ],
   "source": [
    "a = {'name':'John', 'age':30, 'birth':[11, 8]}\n",
    "b = a.keys()\n",
    "c = list(b)\n",
    "\n",
    "print(b)\n",
    "print(c) # key를 list로 변환"
   ]
  },
  {
   "cell_type": "code",
   "execution_count": 45,
   "metadata": {},
   "outputs": [
    {
     "name": "stdout",
     "output_type": "stream",
     "text": [
      "dict_values(['John', 30, [11, 8]])\n",
      "['John', 30, [11, 8]]\n"
     ]
    }
   ],
   "source": [
    "a = {'name':'John', 'age':30, 'birth':[11, 8]}\n",
    "b = a.values()\n",
    "c = list(b)\n",
    "\n",
    "print(b)\n",
    "print(c) # value를 list로 변환"
   ]
  },
  {
   "cell_type": "code",
   "execution_count": 47,
   "metadata": {},
   "outputs": [
    {
     "name": "stdout",
     "output_type": "stream",
     "text": [
      "dict_items([('name', 'John'), ('age', 30), ('birth', [11, 8])])\n",
      "[('name', 'John'), ('age', 30), ('birth', [11, 8])]\n"
     ]
    }
   ],
   "source": [
    "a = {'name':'John', 'age':30, 'birth':[11, 8]}\n",
    "b = a.items() # key-value의 tuple 구조로 return\n",
    "c = list(a.items())\n",
    "\n",
    "print(b)\n",
    "print(c) # 개별 tuple 구조를 list로 감싸기"
   ]
  },
  {
   "cell_type": "code",
   "execution_count": 48,
   "metadata": {},
   "outputs": [
    {
     "name": "stdout",
     "output_type": "stream",
     "text": [
      "John\n",
      "John\n",
      "NaN\n"
     ]
    }
   ],
   "source": [
    "a = {'name':'John', 'age':30, 'birth':[11, 8]}\n",
    "b = a.get('name')\n",
    "c = a['name']\n",
    "d = a.get('house','NaN')\n",
    "# get(x,y) x의 키가 존재하면 x를, 그렇지 않으면 y를 반환\n",
    "\n",
    "print(b)\n",
    "print(c)\n",
    "print(d)"
   ]
  },
  {
   "attachments": {},
   "cell_type": "markdown",
   "metadata": {},
   "source": [
    "### (6) 집합"
   ]
  },
  {
   "cell_type": "code",
   "execution_count": 52,
   "metadata": {},
   "outputs": [
    {
     "name": "stdout",
     "output_type": "stream",
     "text": [
      "{1, 2, 3}\n",
      "{1, 2, 3}\n",
      "{'y', 'P', 't', 'h', 'n', 'o'}\n"
     ]
    }
   ],
   "source": [
    "a = {1,2,3,2,1}\n",
    "b = set(a)\n",
    "c = set('Python')\n",
    "\n",
    "print(a)\n",
    "print(b)\n",
    "print(c) # 순서 의미 없음"
   ]
  },
  {
   "cell_type": "code",
   "execution_count": 53,
   "metadata": {},
   "outputs": [
    {
     "name": "stdout",
     "output_type": "stream",
     "text": [
      "{1, 2, 3}\n",
      "[1, 2, 3]\n",
      "1\n",
      "(1, 2, 3)\n",
      "3\n"
     ]
    }
   ],
   "source": [
    "a = set([1,2,3])\n",
    "b = list(a)\n",
    "c = tuple(a)\n",
    "\n",
    "print(a)\n",
    "print(b)\n",
    "print(b[0])\n",
    "print(c)\n",
    "print(c[2])"
   ]
  },
  {
   "cell_type": "code",
   "execution_count": 54,
   "metadata": {},
   "outputs": [
    {
     "name": "stdout",
     "output_type": "stream",
     "text": [
      "{3, 4, 5}\n",
      "{3, 4, 5}\n"
     ]
    }
   ],
   "source": [
    "a = set([1,2,3,4,5])\n",
    "b = set([3,4,5,6,7])\n",
    "c = a&b\n",
    "d = a.intersection(b)\n",
    "\n",
    "print(c) \n",
    "print(d) # 두 가지 모두 교집합"
   ]
  },
  {
   "cell_type": "code",
   "execution_count": 55,
   "metadata": {},
   "outputs": [
    {
     "name": "stdout",
     "output_type": "stream",
     "text": [
      "{1, 2, 3, 4, 5, 6, 7}\n",
      "{1, 2, 3, 4, 5, 6, 7}\n"
     ]
    }
   ],
   "source": [
    "a = set([1,2,3,4,5])\n",
    "b = set([3,4,5,6,7])\n",
    "c = a|b\n",
    "d = a.union(b)\n",
    "\n",
    "print(c)\n",
    "print(d) # 두 가지 모두 합집합"
   ]
  },
  {
   "cell_type": "code",
   "execution_count": 56,
   "metadata": {},
   "outputs": [
    {
     "name": "stdout",
     "output_type": "stream",
     "text": [
      "{1, 2}\n",
      "{1, 2}\n",
      "{6, 7}\n"
     ]
    }
   ],
   "source": [
    "a = set([1,2,3,4,5])\n",
    "b = set([3,4,5,6,7])\n",
    "c = a-b\n",
    "d = a.difference(b)\n",
    "e = b.difference(a)\n",
    "\n",
    "print(c) \n",
    "print(d) # c,d는 a-b\n",
    "print(e) # e는 b-a"
   ]
  },
  {
   "attachments": {},
   "cell_type": "markdown",
   "metadata": {},
   "source": [
    "### (7) 논리 자료형"
   ]
  },
  {
   "cell_type": "code",
   "execution_count": 57,
   "metadata": {},
   "outputs": [
    {
     "name": "stdout",
     "output_type": "stream",
     "text": [
      "True\n",
      "<class 'bool'>\n",
      "False\n",
      "<class 'bool'>\n",
      "1\n",
      "<class 'int'>\n",
      "0\n",
      "<class 'int'>\n"
     ]
    }
   ],
   "source": [
    "a = True\n",
    "b = False\n",
    "\n",
    "print(a)\n",
    "print(type(a))\n",
    "print(b)\n",
    "print(type(b))\n",
    "print(a+b)\n",
    "print(type(a+b))\n",
    "print(a*b)\n",
    "print(type(a*b))\n",
    "\n",
    "# True는 1로, False는 0으로 처리"
   ]
  },
  {
   "attachments": {},
   "cell_type": "markdown",
   "metadata": {},
   "source": [
    "## 파이썬 제어문"
   ]
  },
  {
   "attachments": {},
   "cell_type": "markdown",
   "metadata": {},
   "source": [
    "### (1) if문"
   ]
  },
  {
   "cell_type": "code",
   "execution_count": 58,
   "metadata": {},
   "outputs": [
    {
     "name": "stdout",
     "output_type": "stream",
     "text": [
      "사실\n"
     ]
    }
   ],
   "source": [
    "a = True\n",
    "\n",
    "if a:\n",
    "    print(\"사실\")\n",
    "else:\n",
    "    print('거짓')\n",
    "    \n",
    "# 조건이 참이면 if문 뒤를, 거짓이면 else문 뒤의 문장을 수행"
   ]
  },
  {
   "cell_type": "code",
   "execution_count": 62,
   "metadata": {},
   "outputs": [
    {
     "name": "stdout",
     "output_type": "stream",
     "text": [
      "x는 y와 다르다\n"
     ]
    }
   ],
   "source": [
    "x=3\n",
    "y=7\n",
    "\n",
    "if x==y:\n",
    "    print('x는 y와 같다')\n",
    "else:\n",
    "    print('x는 y와 다르다')"
   ]
  },
  {
   "cell_type": "code",
   "execution_count": 63,
   "metadata": {},
   "outputs": [
    {
     "name": "stdout",
     "output_type": "stream",
     "text": [
      "x가 y보다 작거나 같다\n"
     ]
    }
   ],
   "source": [
    "x = 3\n",
    "y = 7\n",
    "\n",
    "if x == y or x < y:\n",
    "    print(\"x가 y보다 작거나 같다\")\n",
    "else:\n",
    "    print(\"x가 y보다 크다\")"
   ]
  },
  {
   "cell_type": "code",
   "execution_count": 65,
   "metadata": {},
   "outputs": [
    {
     "name": "stdout",
     "output_type": "stream",
     "text": [
      "데이터 O\n"
     ]
    }
   ],
   "source": [
    "x = 3\n",
    "y = list(range(1,6))\n",
    "\n",
    "if x in y: \n",
    "    print(\"데이터 O\")\n",
    "else:\n",
    "    print(\"데이터 X\")\n"
   ]
  },
  {
   "cell_type": "code",
   "execution_count": 66,
   "metadata": {},
   "outputs": [
    {
     "name": "stdout",
     "output_type": "stream",
     "text": [
      "x가 y보다 작다\n"
     ]
    }
   ],
   "source": [
    "x = 3\n",
    "y = 7\n",
    "\n",
    "if x == y:\n",
    "    print(\"x와 y는 같다\")\n",
    "elif x < y:\n",
    "    print(\"x가 y보다 작다\")\n",
    "else:\n",
    "    print(\"x가 y보다 크다\")"
   ]
  },
  {
   "attachments": {},
   "cell_type": "markdown",
   "metadata": {},
   "source": [
    "### (2) while문"
   ]
  },
  {
   "cell_type": "code",
   "execution_count": 69,
   "metadata": {},
   "outputs": [
    {
     "name": "stdout",
     "output_type": "stream",
     "text": [
      "a값은 0 입니다\n",
      "a값은 1 입니다\n",
      "a값은 2 입니다\n",
      "a값은 3 입니다\n",
      "a값은 4 입니다\n",
      "종료\n"
     ]
    }
   ],
   "source": [
    "a = 0\n",
    "\n",
    "while a < 5:\n",
    "    print(\"a값은 %s 입니다\" % a) # %s : 선언된 a의 값을 호출\n",
    "    a = a+1\n",
    "print(\"종료\")\n",
    "\n",
    "# %d: 정수를 포맷팅하는 데 사용\n",
    "# %s: 문자열을 포맷팅하는 데 사용"
   ]
  },
  {
   "cell_type": "code",
   "execution_count": 71,
   "metadata": {},
   "outputs": [
    {
     "name": "stdout",
     "output_type": "stream",
     "text": [
      "바구니에서 사과를 꺼냈습니다\n",
      "바구니에서 바나나를 꺼냈습니다\n",
      "바구니에서 토마토를 꺼냈습니다\n",
      "바구니에 아무것도 없습니다\n"
     ]
    }
   ],
   "source": [
    "a = 0\n",
    "b = ['사과','바나나','토마토']\n",
    "\n",
    "while a < len(b):\n",
    "    print('바구니에서 %s를 꺼냈습니다' % b[a])\n",
    "    a = a+1\n",
    "print('바구니에 아무것도 없습니다')"
   ]
  },
  {
   "cell_type": "code",
   "execution_count": 74,
   "metadata": {},
   "outputs": [
    {
     "name": "stdout",
     "output_type": "stream",
     "text": [
      "a값은 5입니다\n",
      "a값은 4입니다\n",
      "a값은 3입니다\n",
      "종료\n"
     ]
    }
   ],
   "source": [
    "a = 5\n",
    "\n",
    "while a >0:\n",
    "    print(\"a값은 %s입니다\" % a)\n",
    "    a = a-1\n",
    "    \n",
    "    if a == 2:\n",
    "        break # 조건에 해당될 경우 while문 강제 종료\n",
    "\n",
    "print('종료')"
   ]
  },
  {
   "cell_type": "code",
   "execution_count": 75,
   "metadata": {},
   "outputs": [
    {
     "name": "stdout",
     "output_type": "stream",
     "text": [
      "1\n",
      "3\n",
      "5\n",
      "7\n",
      "9\n"
     ]
    }
   ],
   "source": [
    "a = 0\n",
    "\n",
    "while a < 10:\n",
    "    a = a+1\n",
    "    if a%2 == 0:\n",
    "        continue # 현재의 루프 반복을 중단하고, 다음 반복으로 넘어가는 역할. 즉, 짝수일때 print X\n",
    "    print(a)"
   ]
  },
  {
   "attachments": {},
   "cell_type": "markdown",
   "metadata": {},
   "source": [
    "### (3) for문"
   ]
  },
  {
   "cell_type": "code",
   "execution_count": 78,
   "metadata": {},
   "outputs": [
    {
     "name": "stdout",
     "output_type": "stream",
     "text": [
      "사과\n",
      "바나나\n",
      "토마토\n"
     ]
    }
   ],
   "source": [
    "a = ['사과','바나나','토마토']\n",
    "\n",
    "for i in a:\n",
    "    print(i)"
   ]
  },
  {
   "cell_type": "code",
   "execution_count": 79,
   "metadata": {},
   "outputs": [
    {
     "name": "stdout",
     "output_type": "stream",
     "text": [
      "90는 평균보다 크다\n",
      "25는 평균보다 작다\n",
      "67는 평균보다 크다\n",
      "45는 평균보다 작다\n",
      "80는 평균보다 크다\n"
     ]
    }
   ],
   "source": [
    "a = [90, 25, 67, 45, 80]\n",
    "b = sum(a) / len(a)\n",
    "\n",
    "for i in a:\n",
    "    if i>b:\n",
    "        print(f\"{i}는 평균보다 크다\")\n",
    "    elif i==b:\n",
    "        print(f\"{i}는 평균과 같다\")\n",
    "    else:\n",
    "        print(f\"{i}는 평균보다 작다\")"
   ]
  },
  {
   "cell_type": "code",
   "execution_count": 82,
   "metadata": {},
   "outputs": [
    {
     "name": "stdout",
     "output_type": "stream",
     "text": [
      "2*1 = 2 2*2 = 4 2*3 = 6 2*4 = 8 2*5 = 10 2*6 = 12 2*7 = 14 2*8 = 16 2*9 = 18  \n",
      "3*1 = 3 3*2 = 6 3*3 = 9 3*4 = 12 3*5 = 15 3*6 = 18 3*7 = 21 3*8 = 24 3*9 = 27  \n",
      "4*1 = 4 4*2 = 8 4*3 = 12 4*4 = 16 4*5 = 20 4*6 = 24 4*7 = 28 4*8 = 32 4*9 = 36  \n",
      "5*1 = 5 5*2 = 10 5*3 = 15 5*4 = 20 5*5 = 25 5*6 = 30 5*7 = 35 5*8 = 40 5*9 = 45  \n",
      "6*1 = 6 6*2 = 12 6*3 = 18 6*4 = 24 6*5 = 30 6*6 = 36 6*7 = 42 6*8 = 48 6*9 = 54  \n",
      "7*1 = 7 7*2 = 14 7*3 = 21 7*4 = 28 7*5 = 35 7*6 = 42 7*7 = 49 7*8 = 56 7*9 = 63  \n",
      "8*1 = 8 8*2 = 16 8*3 = 24 8*4 = 32 8*5 = 40 8*6 = 48 8*7 = 56 8*8 = 64 8*9 = 72  \n",
      "9*1 = 9 9*2 = 18 9*3 = 27 9*4 = 36 9*5 = 45 9*6 = 54 9*7 = 63 9*8 = 72 9*9 = 81  \n"
     ]
    }
   ],
   "source": [
    "for i in range(2,10):\n",
    "    for j in range(1,10):\n",
    "        print(f\"{i}*{j} = {i*j}\", end = ' ')\n",
    "    print(' ')\n",
    "\n",
    "# 첫번째 print에 end = ' '를 넣어 해당 결괏값을 그 줄에 계속 출력\n",
    "# 두번째 print에 단을 구분하기 위해 j의 출력이 끝나면 결괏값을 그 다음줄부터 출력"
   ]
  },
  {
   "cell_type": "code",
   "execution_count": 83,
   "metadata": {},
   "outputs": [
    {
     "name": "stdout",
     "output_type": "stream",
     "text": [
      "[40, 30, 20, 10]\n"
     ]
    }
   ],
   "source": [
    "a = [1,2,3,4]\n",
    "result = []\n",
    "\n",
    "for i in a:\n",
    "    result.insert(0, i*10)\n",
    "\n",
    "print(result) # i*10 값이 result 리스트의 가장 앞에 삽입되고, 기존의 요소들은 오른쪽으로 한 칸씩 밀려남"
   ]
  },
  {
   "attachments": {},
   "cell_type": "markdown",
   "metadata": {},
   "source": [
    "### (5) 사용자 정의 def문"
   ]
  },
  {
   "cell_type": "code",
   "execution_count": 84,
   "metadata": {},
   "outputs": [
    {
     "data": {
      "text/plain": [
       "1379"
      ]
     },
     "execution_count": 84,
     "metadata": {},
     "output_type": "execute_result"
    }
   ],
   "source": [
    "def add(a,b):\n",
    "    return a+b\n",
    "\n",
    "add(1234,145)"
   ]
  }
 ],
 "metadata": {
  "kernelspec": {
   "display_name": "Python 3",
   "language": "python",
   "name": "python3"
  },
  "language_info": {
   "codemirror_mode": {
    "name": "ipython",
    "version": 3
   },
   "file_extension": ".py",
   "mimetype": "text/x-python",
   "name": "python",
   "nbconvert_exporter": "python",
   "pygments_lexer": "ipython3",
   "version": "3.10.10"
  },
  "orig_nbformat": 4
 },
 "nbformat": 4,
 "nbformat_minor": 2
}
